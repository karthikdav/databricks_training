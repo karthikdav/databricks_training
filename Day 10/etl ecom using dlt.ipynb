{
 "cells": [
  {
   "cell_type": "code",
   "execution_count": 0,
   "metadata": {
    "application/vnd.databricks.v1+cell": {
     "cellMetadata": {},
     "inputWidgets": {},
     "nuid": "85060db7-4504-455f-a261-ee5e06f4a65b",
     "showTitle": true,
     "tableResultSettingsMap": {},
     "title": "bronze ingestion"
    }
   },
   "outputs": [],
   "source": [
    "CREATE OR REFRESH STREAMING TABLE sales_bronze\n",
    "--COMMENT \"The customers buying finished products, ingested from /databricks-datasets.\"\n",
    "--TBLPROPERTIES (\"myCompanyPipeline.quality\" = \"mapping\")\n",
    "AS SELECT * FROM STREAM read_files(\n",
    "  \"/Volumes/cgi_dev/naval/sales\",\n",
    "   format => \"csv\"\n",
    "   );\n",
    "\n",
    "CREATE OR REFRESH STREAMING TABLE products_bronze\n",
    "--COMMENT \"The customers buying finished products, ingested from /databricks-datasets.\"\n",
    "--TBLPROPERTIES (\"myCompanyPipeline.quality\" = \"mapping\")\n",
    "AS SELECT * FROM STREAM read_files(\n",
    "  \"/Volumes/cgi_dev/naval/products\",\n",
    "   format => \"csv\"\n",
    "   );\n",
    "\n",
    "CREATE OR REFRESH STREAMING TABLE customers_bronze\n",
    "--COMMENT \"The customers buying finished products, ingested from /databricks-datasets.\"\n",
    "--TBLPROPERTIES (\"myCompanyPipeline.quality\" = \"mapping\")\n",
    "AS SELECT * FROM STREAM read_files(\n",
    "  \"/Volumes/cgi_dev/naval/customers\",\n",
    "   format => \"csv\"\n",
    "   );"
   ]
  },
  {
   "cell_type": "code",
   "execution_count": 0,
   "metadata": {
    "application/vnd.databricks.v1+cell": {
     "cellMetadata": {},
     "inputWidgets": {},
     "nuid": "cbcde5f4-3da7-4c45-88ec-ceb2b2719c62",
     "showTitle": false,
     "tableResultSettingsMap": {},
     "title": ""
    }
   },
   "outputs": [],
   "source": [
    "CREATE OR REFRESH STREAMING TABLE sales_cleaned(\n",
    "  CONSTRAINT valid_order_id EXPECT (order_id IS NOT NULL) ON VIOLATION DROP ROW\n",
    ")\n",
    "AS\n",
    "SELECT distinct * except (_rescued_data) from stream(sales_bronze)"
   ]
  },
  {
   "cell_type": "code",
   "execution_count": 0,
   "metadata": {
    "application/vnd.databricks.v1+cell": {
     "cellMetadata": {},
     "inputWidgets": {},
     "nuid": "88c2716a-719e-4aab-af7c-031d8353c2f5",
     "showTitle": false,
     "tableResultSettingsMap": {},
     "title": ""
    }
   },
   "outputs": [],
   "source": [
    "CREATE OR REFRESH STREAMING TABLE product_silver;\n",
    "\n",
    "APPLY CHANGES INTO\n",
    "  product_silver\n",
    "FROM\n",
    "  stream(products_bronze)\n",
    "KEYS\n",
    "  (product_id)\n",
    "APPLY AS DELETE WHEN\n",
    "  operation = \"DELETE\"\n",
    "SEQUENCE BY\n",
    "  seqNum\n",
    "COLUMNS * EXCEPT\n",
    "  (operation, seqNum,_rescued_data)\n",
    "STORED AS\n",
    "  SCD TYPE 1;"
   ]
  },
  {
   "cell_type": "code",
   "execution_count": 0,
   "metadata": {
    "application/vnd.databricks.v1+cell": {
     "cellMetadata": {},
     "inputWidgets": {},
     "nuid": "3712c4fd-cc91-439f-b748-8d848187c875",
     "showTitle": false,
     "tableResultSettingsMap": {},
     "title": ""
    }
   },
   "outputs": [],
   "source": [
    "CREATE OR REFRESH STREAMING TABLE customers_silver;\n",
    "\n",
    "APPLY CHANGES INTO\n",
    "  customers_silver\n",
    "FROM\n",
    "  stream(customers_bronze)\n",
    "KEYS\n",
    "  (customer_id)\n",
    "APPLY AS DELETE WHEN\n",
    "  operation = \"DELETE\"\n",
    "SEQUENCE BY\n",
    "  sequenceNum\n",
    "COLUMNS * EXCEPT\n",
    "  (operation, sequenceNum,_rescued_data)\n",
    "STORED AS\n",
    "  SCD TYPE 2;"
   ]
  },
  {
   "cell_type": "code",
   "execution_count": 0,
   "metadata": {
    "application/vnd.databricks.v1+cell": {
     "cellMetadata": {},
     "inputWidgets": {},
     "nuid": "edd72964-6230-48d5-b86e-4afa067bdf8e",
     "showTitle": false,
     "tableResultSettingsMap": {},
     "title": ""
    }
   },
   "outputs": [],
   "source": [
    "create or refresh materialized view customers_active as\n",
    "select * from cgi_dev.karthik.customers_silver where __END_AT is null"
   ]
  },
  {
   "cell_type": "code",
   "execution_count": 0,
   "metadata": {
    "application/vnd.databricks.v1+cell": {
     "cellMetadata": {},
     "inputWidgets": {},
     "nuid": "f12c7209-2552-4047-be78-ac1a389d8250",
     "showTitle": false,
     "tableResultSettingsMap": {},
     "title": ""
    }
   },
   "outputs": [],
   "source": [
    "create or replace materialized view cgi_dev.karthik_gold.sales_details as \n",
    "(SELECT \n",
    "    o.order_id,\n",
    "    o.order_date,\n",
    "    o.customer_id,\n",
    "    c.customer_name,\n",
    "    c.customer_email,\n",
    "    c.customer_city,\n",
    "    o.product_id,\n",
    "    p.product_name,\n",
    "    p.product_category,\n",
    "    p.product_price,\n",
    "    o.quantity,\n",
    "    o.discount_amount,\n",
    "    o.total_amount\n",
    "FROM cgi_dev.karthik.sales_cleaned o\n",
    "JOIN cgi_dev.karthik.product_silver p\n",
    "  ON o.product_id = p.product_id\n",
    "JOIN (\n",
    "      SELECT DISTINCT customer_id, customer_name, customer_email, customer_city \n",
    "      FROM cgi_dev.karthik.customers_active\n",
    "     ) c\n",
    "  ON o.customer_id = c.customer_id)"
   ]
  },
  {
   "cell_type": "code",
   "execution_count": 0,
   "metadata": {
    "application/vnd.databricks.v1+cell": {
     "cellMetadata": {},
     "inputWidgets": {},
     "nuid": "d5713bc9-ce63-4502-9a44-3a9aa5f09e9f",
     "showTitle": false,
     "tableResultSettingsMap": {},
     "title": ""
    }
   },
   "outputs": [],
   "source": [
    "create or replace live view customer_revenue as\n",
    "SELECT \n",
    "    customer_id, \n",
    "    customer_name, \n",
    "    round(SUM(total_amount)) AS total_revenue\n",
    "FROM cgi_dev.karthik_gold.sales_details\n",
    "GROUP BY customer_id, customer_name\n",
    "ORDER BY total_revenue DESC\n",
    "LIMIT 3;"
   ]
  }
 ],
 "metadata": {
  "application/vnd.databricks.v1+notebook": {
   "computePreferences": null,
   "dashboards": [],
   "environmentMetadata": {
    "base_environment": "",
    "environment_version": "2"
   },
   "language": "sql",
   "notebookMetadata": {
    "pythonIndentUnit": 4
   },
   "notebookName": "etl ecom using dlt",
   "widgets": {}
  },
  "language_info": {
   "name": "sql"
  }
 },
 "nbformat": 4,
 "nbformat_minor": 0
}
