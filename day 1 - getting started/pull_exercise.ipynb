{
 "cells": [
  {
   "cell_type": "code",
   "execution_count": 0,
   "metadata": {
    "application/vnd.databricks.v1+cell": {
     "cellMetadata": {},
     "inputWidgets": {},
     "nuid": "e3adf04e-f4b6-4303-aede-6145f3101747",
     "showTitle": false,
     "tableResultSettingsMap": {},
     "title": ""
    }
   },
   "outputs": [],
   "source": [
    "################### STG automation ####################\n",
    "\n",
    "## To be deleted\n",
    "# Need to dynamise it. This is a PoC. \n",
    "# Wow.. It's working (party) (party)\n",
    "# One notebook to rule them all.. all the way down\n",
    "\n",
    "path = '/Volumes/odp-aws-dls3-eu-central-1-a-sources/slsi_adb/raw_databricks_stg/IN/SAP-P3B_100_FL4137-ZCOL-ZCIC-Complaints_FTP_FULL_ALL_20241010-003037_RAW_20241010-062508.csv'"
   ]
  },
  {
   "cell_type": "code",
   "execution_count": 0,
   "metadata": {
    "application/vnd.databricks.v1+cell": {
     "cellMetadata": {},
     "inputWidgets": {},
     "nuid": "897d28ac-3c15-4926-9b40-5f4fe383b40c",
     "showTitle": false,
     "tableResultSettingsMap": {},
     "title": ""
    }
   },
   "outputs": [],
   "source": [
    "from pyspark.sql import SparkSession\n",
    "from pyspark.sql.functions import col, current_date\n",
    "from pyspark.sql.types import StringType\n",
    "import json\n",
    "import traceback\n",
    "\n",
    "spark = SparkSession.builder.appName(\"DynamicColumnMapping\").getOrCreate()"
   ]
  }
 ],
 "metadata": {
  "application/vnd.databricks.v1+notebook": {
   "computePreferences": null,
   "dashboards": [],
   "environmentMetadata": {
    "base_environment": "",
    "environment_version": "1"
   },
   "language": "python",
   "notebookMetadata": {
    "pythonIndentUnit": 4
   },
   "notebookName": "pull_exercise",
   "widgets": {}
  },
  "language_info": {
   "name": "python"
  }
 },
 "nbformat": 4,
 "nbformat_minor": 0
}
