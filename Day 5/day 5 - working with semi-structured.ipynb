{
 "cells": [
  {
   "cell_type": "code",
   "execution_count": 0,
   "metadata": {
    "application/vnd.databricks.v1+cell": {
     "cellMetadata": {
      "byteLimit": 2048000,
      "rowLimit": 10000
     },
     "inputWidgets": {},
     "nuid": "5c66fb0e-903e-4ed5-86a3-ecf4fea7d075",
     "showTitle": false,
     "tableResultSettingsMap": {},
     "title": ""
    }
   },
   "outputs": [],
   "source": [
    "df=spark.read.option(\"multiLine\", \"true\").json(\"/Volumes/cgi_dev/naval/raw/adobe_sample_json.json\")"
   ]
  },
  {
   "cell_type": "code",
   "execution_count": 0,
   "metadata": {
    "application/vnd.databricks.v1+cell": {
     "cellMetadata": {
      "byteLimit": 2048000,
      "rowLimit": 10000
     },
     "inputWidgets": {},
     "nuid": "c9247db1-905c-4fb5-9804-3df91a75c92b",
     "showTitle": false,
     "tableResultSettingsMap": {},
     "title": ""
    }
   },
   "outputs": [],
   "source": [
    "df.display()"
   ]
  },
  {
   "cell_type": "markdown",
   "metadata": {
    "application/vnd.databricks.v1+cell": {
     "cellMetadata": {},
     "inputWidgets": {},
     "nuid": "856afdf1-697b-4cdb-afb3-62e461bb9a24",
     "showTitle": false,
     "tableResultSettingsMap": {},
     "title": ""
    }
   },
   "source": [
    "## Day 5 Spark API \n",
    "- use explode for array or map to flatten it (This can be used in semi-structured data as well)\n",
    "- For more samples to try out use this https://opensource.adobe.com/Spry/samples/data_region/JSONDataSetSample.html "
   ]
  },
  {
   "cell_type": "code",
   "execution_count": 0,
   "metadata": {
    "application/vnd.databricks.v1+cell": {
     "cellMetadata": {
      "byteLimit": 2048000,
      "rowLimit": 10000
     },
     "inputWidgets": {},
     "nuid": "ad5dbaea-e30e-4192-95d3-5df2891a9c0a",
     "showTitle": false,
     "tableResultSettingsMap": {},
     "title": ""
    }
   },
   "outputs": [],
   "source": [
    "from pyspark.sql.functions import *\n",
    "df_topping = df.withColumn(\"topping\",explode(df[\"topping\"]))\n",
    "df_topping = df_topping.withColumn(\"topping_id\", col('topping.id')).withColumn(\"topping_type\", col('topping.type')).drop(\"topping\")\n",
    "\n",
    "df_batter = df_topping.withColumn(\"batters\", explode(df_topping[\"batters.batter\"]))\n",
    "df_batter = df_batter.withColumn(\"batter_id\", col('batters.id')).withColumn(\"batter_type\", col('batters.type')).drop(\"batters\")\n",
    "df_batter.display()"
   ]
  }
 ],
 "metadata": {
  "application/vnd.databricks.v1+notebook": {
   "computePreferences": null,
   "dashboards": [],
   "environmentMetadata": {
    "base_environment": "",
    "environment_version": "2"
   },
   "language": "python",
   "notebookMetadata": {
    "mostRecentlyExecutedCommandWithImplicitDF": {
     "commandId": 1758486408703122,
     "dataframes": [
      "_sqldf"
     ]
    },
    "pythonIndentUnit": 4
   },
   "notebookName": "day 5 - working with semi-structured",
   "widgets": {}
  },
  "language_info": {
   "name": "python"
  }
 },
 "nbformat": 4,
 "nbformat_minor": 0
}
