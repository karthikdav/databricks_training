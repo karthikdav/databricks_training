{
 "cells": [
  {
   "cell_type": "markdown",
   "metadata": {
    "application/vnd.databricks.v1+cell": {
     "cellMetadata": {
      "byteLimit": 2048000,
      "rowLimit": 10000
     },
     "inputWidgets": {},
     "nuid": "6fd021f2-c09a-47af-8a6b-c087e75a1966",
     "showTitle": false,
     "tableResultSettingsMap": {},
     "title": ""
    }
   },
   "source": [
    "## Lakehouse\n",
    "Refer below for the lakehouse paper to better understand.\n",
    "\n",
    "[https://www.cidrdb.org/cidr2021/papers/cidr2021_paper17.pdf](url)\n",
    "\n",
    "> Kindly check the includes notebook in Day 2 folder for the right input path. "
   ]
  },
  {
   "cell_type": "code",
   "execution_count": 0,
   "metadata": {
    "application/vnd.databricks.v1+cell": {
     "cellMetadata": {
      "byteLimit": 2048000,
      "rowLimit": 10000
     },
     "inputWidgets": {},
     "nuid": "179ed47b-3452-4d5f-a7bb-5fde570fd75b",
     "showTitle": false,
     "tableResultSettingsMap": {},
     "title": ""
    }
   },
   "outputs": [],
   "source": [
    "%run \"/Workspace/Users/karthik.parthiban@cgi.com/Day 2 - Training/includes\""
   ]
  },
  {
   "cell_type": "code",
   "execution_count": 0,
   "metadata": {
    "application/vnd.databricks.v1+cell": {
     "cellMetadata": {
      "byteLimit": 2048000,
      "implicitDf": true,
      "rowLimit": 10000
     },
     "inputWidgets": {},
     "nuid": "82e82f4f-8830-4e7d-9712-f792744eb162",
     "showTitle": false,
     "tableResultSettingsMap": {},
     "title": ""
    }
   },
   "outputs": [],
   "source": [
    "%sql\n",
    "--This can be handled in the includes as well. I have kept here for the learning purpose. \n",
    "use catalog cgi_dev;\n",
    "create schema if not exists cgi_dev.karthik_bronze;\n",
    "create schema if not exists cgi_dev.karthik_silver;\n",
    "create schema if not exists cgi_dev.karthik_gold;"
   ]
  },
  {
   "cell_type": "code",
   "execution_count": 0,
   "metadata": {
    "application/vnd.databricks.v1+cell": {
     "cellMetadata": {
      "byteLimit": 2048000,
      "rowLimit": 10000
     },
     "inputWidgets": {},
     "nuid": "533378db-c28d-4003-bdfc-3e963b3b3dd3",
     "showTitle": false,
     "tableResultSettingsMap": {},
     "title": ""
    }
   },
   "outputs": [],
   "source": [
    "dbutils.widgets.text(\"file_name\", \"sales.csv\", \"Name of the File\")\n",
    "dbutils.widgets.dropdown(\"schema\", \"karthik_bronze\", [\"karthik_bronze\",\"karthik_silver\",\"karthik_gold\"])\n",
    "dbutils.widgets.text(\"catalog\", \"cgi_dev\", \"Name of the Catalog\")\n",
    "dbutils.widgets.text(\"table_name\", \"sales\", \"Table Name\")\n",
    "\n"
   ]
  },
  {
   "cell_type": "code",
   "execution_count": 0,
   "metadata": {
    "application/vnd.databricks.v1+cell": {
     "cellMetadata": {
      "byteLimit": 2048000,
      "rowLimit": 10000
     },
     "inputWidgets": {},
     "nuid": "32f8b392-529d-4b11-925b-98972be6884c",
     "showTitle": false,
     "tableResultSettingsMap": {},
     "title": ""
    }
   },
   "outputs": [],
   "source": [
    "input_path"
   ]
  },
  {
   "cell_type": "code",
   "execution_count": 0,
   "metadata": {
    "application/vnd.databricks.v1+cell": {
     "cellMetadata": {
      "byteLimit": 2048000,
      "rowLimit": 10000
     },
     "inputWidgets": {},
     "nuid": "840f59f1-2ac0-44ed-a748-e3853ea9a3a0",
     "showTitle": false,
     "tableResultSettingsMap": {},
     "title": ""
    }
   },
   "outputs": [],
   "source": [
    "file_name = dbutils.widgets.get(\"file_name\")\n",
    "schema = dbutils.widgets.get(\"schema\")\n",
    "catalog = dbutils.widgets.get(\"catalog\")\n",
    "table_name = dbutils.widgets.get(\"table_name\")"
   ]
  },
  {
   "cell_type": "code",
   "execution_count": 0,
   "metadata": {
    "application/vnd.databricks.v1+cell": {
     "cellMetadata": {
      "byteLimit": 2048000,
      "rowLimit": 10000
     },
     "inputWidgets": {},
     "nuid": "d3484c49-cde2-45ca-add6-a6618cc52691",
     "showTitle": false,
     "tableResultSettingsMap": {},
     "title": ""
    }
   },
   "outputs": [],
   "source": [
    "# to read sales.csv file\n",
    "\n",
    "df = spark.read.csv(\"{}/{}\".format(input_path, file_name), header=True, inferSchema=True)\n",
    "\n",
    "df.show(5)"
   ]
  },
  {
   "cell_type": "code",
   "execution_count": 0,
   "metadata": {
    "application/vnd.databricks.v1+cell": {
     "cellMetadata": {
      "byteLimit": 2048000,
      "rowLimit": 10000
     },
     "inputWidgets": {},
     "nuid": "648c1b47-91f5-4f28-bd28-72264aaf1234",
     "showTitle": false,
     "tableResultSettingsMap": {},
     "title": ""
    }
   },
   "outputs": [],
   "source": [
    "df = add_ingestion_date(df)"
   ]
  },
  {
   "cell_type": "code",
   "execution_count": 0,
   "metadata": {
    "application/vnd.databricks.v1+cell": {
     "cellMetadata": {
      "byteLimit": 2048000,
      "rowLimit": 10000
     },
     "inputWidgets": {},
     "nuid": "e00be4bc-6080-4260-aad0-28c0edab0f09",
     "showTitle": false,
     "tableResultSettingsMap": {},
     "title": ""
    }
   },
   "outputs": [],
   "source": [
    "df.write.mode(\"overwrite\").saveAsTable(\"{}.{}.{}\".format(catalog, schema, table_name))"
   ]
  }
 ],
 "metadata": {
  "application/vnd.databricks.v1+notebook": {
   "computePreferences": null,
   "dashboards": [],
   "environmentMetadata": {
    "base_environment": "",
    "environment_version": "2"
   },
   "language": "python",
   "notebookMetadata": {
    "mostRecentlyExecutedCommandWithImplicitDF": {
     "commandId": 2775447339679915,
     "dataframes": [
      "_sqldf"
     ]
    },
    "pythonIndentUnit": 4
   },
   "notebookName": "Ingesting",
   "widgets": {
    "catalog": {
     "currentValue": "cgi_dev",
     "nuid": "59eb95b1-53eb-46e6-ac39-e4c4e3ffc171",
     "typedWidgetInfo": {
      "autoCreated": false,
      "defaultValue": "cgi_dev",
      "label": "Name of the Catalog",
      "name": "catalog",
      "options": {
       "widgetDisplayType": "Text",
       "validationRegex": null
      },
      "parameterDataType": "String"
     },
     "widgetInfo": {
      "widgetType": "text",
      "defaultValue": "cgi_dev",
      "label": "Name of the Catalog",
      "name": "catalog",
      "options": {
       "widgetType": "text",
       "autoCreated": null,
       "validationRegex": null
      }
     }
    },
    "file_name": {
     "currentValue": "customers.csv",
     "nuid": "6bbb3cdd-74be-4612-a05d-fa257a5bf8ca",
     "typedWidgetInfo": {
      "autoCreated": false,
      "defaultValue": "sales.csv",
      "label": "Name of the File",
      "name": "file_name",
      "options": {
       "widgetDisplayType": "Text",
       "validationRegex": null
      },
      "parameterDataType": "String"
     },
     "widgetInfo": {
      "widgetType": "text",
      "defaultValue": "sales.csv",
      "label": "Name of the File",
      "name": "file_name",
      "options": {
       "widgetType": "text",
       "autoCreated": null,
       "validationRegex": null
      }
     }
    },
    "schema": {
     "currentValue": "karthik_bronze",
     "nuid": "020e1bff-405c-4b25-bdfe-d122c7d2f560",
     "typedWidgetInfo": {
      "autoCreated": false,
      "defaultValue": "karthik_bronze",
      "label": null,
      "name": "schema",
      "options": {
       "widgetDisplayType": "Dropdown",
       "choices": [
        "karthik_bronze",
        "karthik_silver",
        "karthik_gold"
       ],
       "fixedDomain": true,
       "multiselect": false
      },
      "parameterDataType": "String"
     },
     "widgetInfo": {
      "widgetType": "dropdown",
      "defaultValue": "karthik_bronze",
      "label": null,
      "name": "schema",
      "options": {
       "widgetType": "dropdown",
       "autoCreated": null,
       "choices": [
        "karthik_bronze",
        "karthik_silver",
        "karthik_gold"
       ]
      }
     }
    },
    "table_name": {
     "currentValue": "customers",
     "nuid": "4137f7b1-6be4-4836-8fdc-47ebb4db8eda",
     "typedWidgetInfo": {
      "autoCreated": false,
      "defaultValue": "sales",
      "label": "Table Name",
      "name": "table_name",
      "options": {
       "widgetDisplayType": "Text",
       "validationRegex": null
      },
      "parameterDataType": "String"
     },
     "widgetInfo": {
      "widgetType": "text",
      "defaultValue": "sales",
      "label": "Table Name",
      "name": "table_name",
      "options": {
       "widgetType": "text",
       "autoCreated": null,
       "validationRegex": null
      }
     }
    }
   }
  },
  "language_info": {
   "name": "python"
  }
 },
 "nbformat": 4,
 "nbformat_minor": 0
}
