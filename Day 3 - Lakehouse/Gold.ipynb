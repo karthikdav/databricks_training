{
 "cells": [
  {
   "cell_type": "code",
   "execution_count": 0,
   "metadata": {
    "application/vnd.databricks.v1+cell": {
     "cellMetadata": {
      "byteLimit": 2048000,
      "rowLimit": 10000
     },
     "inputWidgets": {},
     "nuid": "80b4f747-a710-48f8-82d0-89eb8f96f612",
     "showTitle": false,
     "tableResultSettingsMap": {},
     "title": ""
    }
   },
   "outputs": [],
   "source": [
    "create or replace view cgi_dev.karthik_gold.view_sales_details as \n",
    "(SELECT \n",
    "    o.order_id,\n",
    "    o.order_date,\n",
    "    o.customer_id,\n",
    "    c.customer_name,\n",
    "    c.customer_email,\n",
    "    c.customer_city,\n",
    "    o.product_id,\n",
    "    p.product_name,\n",
    "    p.product_category,\n",
    "    p.product_price,\n",
    "    o.quantity,\n",
    "    o.discount_amount,\n",
    "    o.total_amount,\n",
    "    cgi_dev.karthik.categorize_order(total_amount) as order_category\n",
    "FROM cgi_dev.karthik_silver.sales o\n",
    "JOIN cgi_dev.karthik_silver.products p\n",
    "  ON o.product_id = p.product_id\n",
    "JOIN (\n",
    "      SELECT DISTINCT customer_id, customer_name, customer_email, customer_city \n",
    "      FROM cgi_dev.karthik_silver.customers\n",
    "     ) c\n",
    "  ON o.customer_id = c.customer_id)"
   ]
  },
  {
   "cell_type": "code",
   "execution_count": 0,
   "metadata": {
    "application/vnd.databricks.v1+cell": {
     "cellMetadata": {
      "byteLimit": 2048000,
      "rowLimit": 10000
     },
     "inputWidgets": {},
     "nuid": "9e2e8291-0bde-425c-9b29-f5f0e54cea4f",
     "showTitle": true,
     "tableResultSettingsMap": {},
     "title": "What is the total revenue by product category?"
    }
   },
   "outputs": [
    {
     "output_type": "display_data",
     "data": {
      "text/plain": [
       "Databricks visualization. Run in Databricks to view."
      ]
     },
     "metadata": {
      "application/vnd.databricks.v1.subcommand+json": {
       "baseErrorDetails": null,
       "bindings": {},
       "collapsed": false,
       "command": "%sql WITH q AS (create or replace view cgi_dev.karthik_gold.view_product_category as\n(SELECT \n    product_category, \n    round(SUM(total_amount)) AS total_revenue\nFROM cgi_dev.karthik_gold.vw_sales_details\nGROUP BY product_category\nORDER BY total_revenue DESC)) SELECT `product_category`,SUM(`total_revenue`) `column_4e9f518418` FROM q GROUP BY `product_category`",
       "commandTitle": "Visualization 1",
       "commandType": "auto",
       "commandVersion": 0,
       "commentThread": [],
       "commentsVisible": false,
       "contentSha256Hex": null,
       "customPlotOptions": {
        "redashChart": [
         {
          "key": "type",
          "value": "CHART"
         },
         {
          "key": "options",
          "value": {
           "alignYAxesAtZero": true,
           "coefficient": 1,
           "columnConfigurationMap": {
            "x": {
             "column": "product_category",
             "id": "column_4e9f518417"
            },
            "y": [
             {
              "column": "total_revenue",
              "id": "column_4e9f518418",
              "transform": "SUM"
             }
            ]
           },
           "dateTimeFormat": "DD/MM/YYYY HH:mm",
           "direction": {
            "type": "counterclockwise"
           },
           "error_y": {
            "type": "data",
            "visible": true
           },
           "globalSeriesType": "column",
           "isAggregationOn": true,
           "legend": {
            "traceorder": "normal"
           },
           "missingValuesAsZero": true,
           "numberFormat": "0,0.[00000]",
           "percentFormat": "0[.]00%",
           "series": {
            "error_y": {
             "type": "data",
             "visible": true
            },
            "stacking": null
           },
           "seriesOptions": {
            "column_4e9f518418": {
             "color": "#FFAB00",
             "name": "total_revenue",
             "yAxis": 0
            }
           },
           "showDataLabels": true,
           "sizemode": "diameter",
           "sortX": true,
           "sortY": true,
           "swappedAxes": false,
           "textFormat": "",
           "useAggregationsUi": true,
           "valuesOptions": {},
           "version": 2,
           "xAxis": {
            "labels": {
             "enabled": true
            },
            "type": "-"
           },
           "yAxis": [
            {
             "type": "-"
            },
            {
             "opposite": true,
             "type": "-"
            }
           ]
          }
         }
        ]
       },
       "datasetPreviewNameToCmdIdMap": {},
       "diffDeletes": [],
       "diffInserts": [],
       "displayType": "redashChart",
       "error": null,
       "errorDetails": null,
       "errorSummary": null,
       "errorTraceType": null,
       "finishTime": 0,
       "globalVars": {},
       "guid": "",
       "height": "auto",
       "hideCommandCode": false,
       "hideCommandResult": false,
       "iPythonMetadata": null,
       "inputWidgets": {},
       "isLockedInExamMode": false,
       "latestUser": "a user",
       "latestUserId": null,
       "listResultMetadata": null,
       "metadata": {
        "byteLimit": 2048000,
        "rowLimit": 10000
       },
       "nuid": "8ebf0a94-3be5-43e0-846a-8ba693114eef",
       "origId": 0,
       "parentHierarchy": [],
       "pivotAggregation": null,
       "pivotColumns": null,
       "position": 1.75,
       "resultDbfsErrorMessage": null,
       "resultDbfsStatus": "INLINED_IN_TREE",
       "results": null,
       "showCommandTitle": false,
       "startTime": 0,
       "state": "input",
       "streamStates": {},
       "subcommandOptions": {
        "queryPlan": {
         "groups": [
          {
           "column": "product_category",
           "type": "column"
          }
         ],
         "selects": [
          {
           "column": "product_category",
           "type": "column"
          },
          {
           "alias": "column_4e9f518418",
           "args": [
            {
             "column": "total_revenue",
             "type": "column"
            }
           ],
           "function": "SUM",
           "type": "function"
          }
         ]
        }
       },
       "submitTime": 0,
       "subtype": "tableResultSubCmd.visualization",
       "tableResultIndex": 0,
       "tableResultSettingsMap": {},
       "useConsistentColors": false,
       "version": "CommandV1",
       "width": "auto",
       "workflows": null,
       "xColumns": null,
       "yColumns": null
      }
     },
     "output_type": "display_data"
    }
   ],
   "source": [
    "create or replace view cgi_dev.karthik_gold.view_product_category as\n",
    "(SELECT \n",
    "    product_category, \n",
    "    round(SUM(total_amount)) AS total_revenue\n",
    "FROM cgi_dev.karthik_gold.view_sales_details\n",
    "GROUP BY product_category\n",
    "ORDER BY total_revenue DESC);\n"
   ]
  },
  {
   "cell_type": "code",
   "execution_count": 0,
   "metadata": {
    "application/vnd.databricks.v1+cell": {
     "cellMetadata": {
      "byteLimit": 2048000,
      "rowLimit": 10000
     },
     "inputWidgets": {},
     "nuid": "caa90ff7-d631-46b3-b0b1-7ea51e60f295",
     "showTitle": true,
     "tableResultSettingsMap": {},
     "title": "Who are the top 3 customers by total revenue?"
    }
   },
   "outputs": [],
   "source": [
    "create or replace view cgi_dev.karthik_gold.view_customer_revenue as\n",
    "SELECT \n",
    "    customer_id, \n",
    "    customer_name, \n",
    "    round(SUM(total_amount)) AS total_revenue\n",
    "FROM cgi_dev.karthik_gold.view_sales_details\n",
    "GROUP BY customer_id, customer_name\n",
    "ORDER BY total_revenue DESC\n",
    "LIMIT 3;\n"
   ]
  },
  {
   "cell_type": "code",
   "execution_count": 0,
   "metadata": {
    "application/vnd.databricks.v1+cell": {
     "cellMetadata": {
      "byteLimit": 2048000,
      "rowLimit": 10000
     },
     "inputWidgets": {},
     "nuid": "1459eb56-f96f-4827-b220-678f6a8eae9a",
     "showTitle": false,
     "tableResultSettingsMap": {},
     "title": ""
    }
   },
   "outputs": [],
   "source": []
  }
 ],
 "metadata": {
  "application/vnd.databricks.v1+notebook": {
   "computePreferences": null,
   "dashboards": [],
   "environmentMetadata": {
    "base_environment": "",
    "environment_version": "2"
   },
   "language": "sql",
   "notebookMetadata": {
    "mostRecentlyExecutedCommandWithImplicitDF": {
     "commandId": 2775447339680615,
     "dataframes": [
      "_sqldf"
     ]
    },
    "pythonIndentUnit": 4
   },
   "notebookName": "Gold",
   "widgets": {}
  },
  "language_info": {
   "name": "sql"
  }
 },
 "nbformat": 4,
 "nbformat_minor": 0
}
